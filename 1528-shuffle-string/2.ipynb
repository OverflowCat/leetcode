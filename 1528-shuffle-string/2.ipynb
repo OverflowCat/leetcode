{
 "cells": [
  {
   "cell_type": "code",
   "execution_count": 2,
   "metadata": {},
   "outputs": [],
   "source": [
    "strs = [\"eat\",\"tea\",\"tan\",\"ate\",\"nat\",\"bat\"]"
   ]
  },
  {
   "cell_type": "code",
   "execution_count": 5,
   "metadata": {},
   "outputs": [],
   "source": [
    "map = {}\n",
    "for s in strs:\n",
    "    o = \"\"\n",
    "    for c in \"abcdefghijklmnopqrstuvwxyz\":\n",
    "        if c not in s:\n",
    "            o += c\n",
    "    if o not in map:\n",
    "        map[o] = [s]\n",
    "    else:\n",
    "        map[o].append(s)"
   ]
  },
  {
   "cell_type": "code",
   "execution_count": 6,
   "metadata": {},
   "outputs": [],
   "source": [
    "res = []\n",
    "for k, v in map.items():\n",
    "    res.append(v)"
   ]
  },
  {
   "cell_type": "code",
   "execution_count": 9,
   "metadata": {},
   "outputs": [
    {
     "data": {
      "text/plain": [
       "[['eat', 'tea', 'ate'], ['tan', 'nat'], ['bat']]"
      ]
     },
     "execution_count": 9,
     "metadata": {},
     "output_type": "execute_result"
    }
   ],
   "source": [
    "list(map.values())"
   ]
  },
  {
   "cell_type": "code",
   "execution_count": 18,
   "metadata": {},
   "outputs": [],
   "source": [
    "class Solution:\n",
    "    def groupAnagrams(self, strs):\n",
    "        map = {}\n",
    "        for s in strs:\n",
    "            o = \"\"\n",
    "            for c in \"abcdefghijklmnopqrstuvwxyz\":\n",
    "                o += str(s.count(c)) + c\n",
    "            if o not in map:\n",
    "                map[o] = [s]\n",
    "            else:\n",
    "                map[o].append(s)\n",
    "        return list(map.values())"
   ]
  },
  {
   "cell_type": "markdown",
   "metadata": {},
   "source": []
  },
  {
   "cell_type": "code",
   "execution_count": 19,
   "metadata": {},
   "outputs": [
    {
     "data": {
      "text/plain": [
       "[['ddddddddddg'], ['dgggggggggg']]"
      ]
     },
     "execution_count": 19,
     "metadata": {},
     "output_type": "execute_result"
    }
   ],
   "source": [
    "Solution().groupAnagrams([\"ddddddddddg\",\"dgggggggggg\"])"
   ]
  },
  {
   "cell_type": "code",
   "execution_count": null,
   "metadata": {},
   "outputs": [],
   "source": []
  }
 ],
 "metadata": {
  "kernelspec": {
   "display_name": "Python 3.10.5 64-bit (system)",
   "language": "python",
   "name": "python3"
  },
  "language_info": {
   "codemirror_mode": {
    "name": "ipython",
    "version": 3
   },
   "file_extension": ".py",
   "mimetype": "text/x-python",
   "name": "python",
   "nbconvert_exporter": "python",
   "pygments_lexer": "ipython3",
   "version": "3.10.5"
  },
  "orig_nbformat": 4,
  "vscode": {
   "interpreter": {
    "hash": "a543c686189563a85cf6cc7e363654ed89aa34fde1eb8dcc95cfe7db3a556dbf"
   }
  }
 },
 "nbformat": 4,
 "nbformat_minor": 2
}
