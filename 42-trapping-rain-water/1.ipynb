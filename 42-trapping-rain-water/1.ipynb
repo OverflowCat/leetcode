{
 "cells": [
  {
   "cell_type": "code",
   "execution_count": 37,
   "metadata": {},
   "outputs": [],
   "source": [
    "height = [0,0,1,0,2,1,0,1,3,2,1,2,1,0]"
   ]
  },
  {
   "cell_type": "code",
   "execution_count": 38,
   "metadata": {},
   "outputs": [],
   "source": [
    "lhighest = []\n",
    "maxv = 0\n",
    "for x in height:\n",
    "    if x > maxv:\n",
    "        maxv = x\n",
    "    lhighest.append(maxv)\n",
    "\n",
    "rhighest = []\n",
    "maxv = 0\n",
    "for x in height[::-1]:\n",
    "    if x > maxv:\n",
    "        maxv = x\n",
    "    rhighest.append(maxv)\n",
    "rhighest = rhighest[::-1]"
   ]
  },
  {
   "cell_type": "code",
   "execution_count": 39,
   "metadata": {},
   "outputs": [
    {
     "data": {
      "text/plain": [
       "[3, 3, 3, 3, 3, 3, 3, 3, 3, 2, 2, 2, 1, 0]"
      ]
     },
     "execution_count": 39,
     "metadata": {},
     "output_type": "execute_result"
    }
   ],
   "source": [
    "rhighest"
   ]
  },
  {
   "cell_type": "code",
   "execution_count": 40,
   "metadata": {},
   "outputs": [],
   "source": [
    "water = [min(lhighest[i], rhighest[i]) - height[i] for i in range(len(height))]\n"
   ]
  },
  {
   "cell_type": "code",
   "execution_count": null,
   "metadata": {},
   "outputs": [],
   "source": []
  },
  {
   "cell_type": "code",
   "execution_count": 41,
   "metadata": {},
   "outputs": [
    {
     "data": {
      "text/plain": [
       "[0, 0, 0, 1, 0, 1, 2, 1, 0, 0, 1, 0, 0, 0]"
      ]
     },
     "execution_count": 41,
     "metadata": {},
     "output_type": "execute_result"
    }
   ],
   "source": [
    "water"
   ]
  },
  {
   "cell_type": "code",
   "execution_count": 42,
   "metadata": {},
   "outputs": [
    {
     "data": {
      "text/plain": [
       "6"
      ]
     },
     "execution_count": 42,
     "metadata": {},
     "output_type": "execute_result"
    }
   ],
   "source": [
    "sum(water)"
   ]
  },
  {
   "cell_type": "code",
   "execution_count": 44,
   "metadata": {},
   "outputs": [],
   "source": [
    "class Solution:\n",
    "    def trap(self, height) -> int:\n",
    "        height = [0] + height + [0]\n",
    "        lhighest = []\n",
    "        maxv = 0\n",
    "        for x in height:\n",
    "            if x > maxv:\n",
    "                maxv = x\n",
    "            lhighest.append(maxv)\n",
    "\n",
    "        rhighest = []\n",
    "        maxv = 0\n",
    "        for x in height[::-1]:\n",
    "            if x > maxv:\n",
    "                maxv = x\n",
    "            rhighest.append(maxv)\n",
    "        rhighest = rhighest[::-1]\n",
    "        sum = 0\n",
    "        for i in range(len(height)):\n",
    "            sum += min(lhighest[i], rhighest[i]) - height[i]\n",
    "        return sum"
   ]
  },
  {
   "cell_type": "markdown",
   "metadata": {},
   "source": []
  },
  {
   "cell_type": "code",
   "execution_count": 45,
   "metadata": {},
   "outputs": [
    {
     "data": {
      "text/plain": [
       "6"
      ]
     },
     "execution_count": 45,
     "metadata": {},
     "output_type": "execute_result"
    }
   ],
   "source": [
    "Solution().trap([0,1,0,2,1,0,1,3,2,1,2,1])"
   ]
  },
  {
   "cell_type": "markdown",
   "metadata": {},
   "source": []
  }
 ],
 "metadata": {
  "kernelspec": {
   "display_name": "Python 3.10.5 64-bit (system)",
   "language": "python",
   "name": "python3"
  },
  "language_info": {
   "codemirror_mode": {
    "name": "ipython",
    "version": 3
   },
   "file_extension": ".py",
   "mimetype": "text/x-python",
   "name": "python",
   "nbconvert_exporter": "python",
   "pygments_lexer": "ipython3",
   "version": "3.10.5"
  },
  "orig_nbformat": 4,
  "vscode": {
   "interpreter": {
    "hash": "a543c686189563a85cf6cc7e363654ed89aa34fde1eb8dcc95cfe7db3a556dbf"
   }
  }
 },
 "nbformat": 4,
 "nbformat_minor": 2
}
