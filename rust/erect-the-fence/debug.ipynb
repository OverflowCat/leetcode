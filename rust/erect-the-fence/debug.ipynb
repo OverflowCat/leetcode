{
 "cells": [
  {
   "cell_type": "code",
   "execution_count": 2,
   "metadata": {},
   "outputs": [],
   "source": [
    "def plot(points):\n",
    "    points = [list(x) for x in points]\n",
    "    xs = [p[0] for p in points]\n",
    "    ys = [p[1] for p in points]\n",
    "    xm = max(xs) + 1\n",
    "    ym = max(ys) + 1\n",
    "    map = [['-'] * xm for y in range(ym)]\n",
    "    for p in points:\n",
    "        map[p[1]][p[0]] = \"*\"\n",
    "    map = map[::-1]\n",
    "    for line in map:\n",
    "        print(\" \".join(line))"
   ]
  },
  {
   "cell_type": "code",
   "execution_count": 31,
   "metadata": {},
   "outputs": [
    {
     "name": "stdout",
     "output_type": "stream",
     "text": [
      "- - * * * * * -\n",
      "- * - - - - - *\n",
      "* * - - - - - *\n",
      "- * - - * - - *\n",
      "- - * - - - * -\n",
      "- - - * * * - -\n"
     ]
    }
   ],
   "source": [
    "ps = [[3,0],[4,0],[5,0],[6,1],[7,2],[7,3],[7,4],[6,5],[5,5],[4,5],[3,5],[2,5],[1,4],[1,3],[1,2],[2,1],[4,2],[0,3]]\n",
    "plot(ps)"
   ]
  },
  {
   "cell_type": "code",
   "execution_count": 29,
   "metadata": {},
   "outputs": [
    {
     "name": "stdout",
     "output_type": "stream",
     "text": [
      "- - * * * * * -\n",
      "- * - - - - - *\n",
      "* - - - - - - *\n",
      "- * - - - - - *\n",
      "- - * - - - * -\n",
      "- - - * * * - -\n"
     ]
    }
   ],
   "source": [
    "ps = [[4,5],[2,5],[6,1],[3,5],[2,1],[1,4],[1,2],[7,4],[7,3],[7,2],[3,0],[0,3],[5,0],[5,5],[4,0],[6,5]]\n",
    "plot(ps)"
   ]
  },
  {
   "cell_type": "code",
   "execution_count": 30,
   "metadata": {},
   "outputs": [
    {
     "name": "stdout",
     "output_type": "stream",
     "text": [
      "- - * * * * * -\n",
      "- * - - - - - *\n",
      "* - - - - - - *\n",
      "- * - - - - - *\n",
      "- - * - - - * -\n",
      "- - - * - * - -\n"
     ]
    }
   ],
   "source": [
    "ps = [[3,0],[2,1],[1,2],[0,3],[1,4],[2,5],[3,5],[4,5],[5,5],[6,5],[7,4],[7,3],[7,2],[6,1],[5,0]]\n",
    "plot(ps)"
   ]
  },
  {
   "cell_type": "code",
   "execution_count": 34,
   "metadata": {},
   "outputs": [],
   "source": [
    "a = set([(4, 0), (6, 5), (7, 2), (7, 4), (5, 5), (4, 5), (3, 5), (2, 5), (1, 4), (0, 3), (6, 1), (3, 0), (7, 3), (5, 0)])"
   ]
  },
  {
   "cell_type": "code",
   "execution_count": 35,
   "metadata": {},
   "outputs": [],
   "source": [
    "exp = set([(5, 5), (3, 5), (1, 4), (2, 5), (4, 0), (5, 0), (3, 0), (6, 5), (4, 5), (2, 1), (7, 4), (0, 3), (1, 2), (7, 3), (6, 1), (7, 2)])"
   ]
  },
  {
   "cell_type": "code",
   "execution_count": 37,
   "metadata": {},
   "outputs": [
    {
     "data": {
      "text/plain": [
       "{(1, 2), (2, 1)}"
      ]
     },
     "execution_count": 37,
     "metadata": {},
     "output_type": "execute_result"
    }
   ],
   "source": [
    "exp - a\n",
    "\n",
    "\n",
    "(1, 2)"
   ]
  },
  {
   "cell_type": "code",
   "execution_count": null,
   "metadata": {},
   "outputs": [],
   "source": [
    "-2, 2\n",
    "-1, 1"
   ]
  },
  {
   "cell_type": "code",
   "execution_count": 3,
   "metadata": {},
   "outputs": [
    {
     "name": "stdout",
     "output_type": "stream",
     "text": [
      "- - * * * * * -\n",
      "- * - - - - - *\n",
      "* - - - - - - *\n",
      "- - - - - - - *\n",
      "- - - - - - * -\n",
      "- - - * * * - -\n"
     ]
    }
   ],
   "source": [
    "ps = [7, 3], [5, 0], [7, 4], [4, 5], [1, 4], [4, 0], [5, 5], [6, 1], [3, 0], [6, 5], [2, 5], [7, 2], [0, 3], [3, 5]\n",
    "plot(ps)"
   ]
  }
 ],
 "metadata": {
  "kernelspec": {
   "display_name": "Python 3.10.8 64-bit",
   "language": "python",
   "name": "python3"
  },
  "language_info": {
   "codemirror_mode": {
    "name": "ipython",
    "version": 3
   },
   "file_extension": ".py",
   "mimetype": "text/x-python",
   "name": "python",
   "nbconvert_exporter": "python",
   "pygments_lexer": "ipython3",
   "version": "3.10.8"
  },
  "orig_nbformat": 4,
  "vscode": {
   "interpreter": {
    "hash": "a543c686189563a85cf6cc7e363654ed89aa34fde1eb8dcc95cfe7db3a556dbf"
   }
  }
 },
 "nbformat": 4,
 "nbformat_minor": 2
}
